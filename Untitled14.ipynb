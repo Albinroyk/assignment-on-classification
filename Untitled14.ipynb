{
  "nbformat": 4,
  "nbformat_minor": 0,
  "metadata": {
    "colab": {
      "provenance": []
    },
    "kernelspec": {
      "name": "python3",
      "display_name": "Python 3"
    },
    "language_info": {
      "name": "python"
    }
  },
  "cells": [
    {
      "cell_type": "code",
      "source": [
        "import pandas as pd\n",
        "from sklearn.model_selection import train_test_split\n",
        "from sklearn.preprocessing import LabelEncoder\n",
        "from sklearn.metrics import accuracy_score\n",
        "from sklearn.linear_model import LogisticRegression\n",
        "from sklearn.neighbors import KNeighborsClassifier\n",
        "from sklearn.svm import SVC\n",
        "from sklearn.tree import DecisionTreeClassifier\n",
        "from sklearn.ensemble import RandomForestClassifier, GradientBoostingClassifier\n",
        "\n",
        "# Read the dataset\n",
        "data = pd.read_excel('/content/iris(1).xls')\n",
        "\n",
        "# Check for missing values\n",
        "print(\"Missing values before preprocessing:\")\n",
        "print(data.isnull().sum())\n",
        "\n",
        "# Fill missing values (if any)\n",
        "data.fillna(method='ffill', inplace=True)\n",
        "\n",
        "# Check for missing values after filling\n",
        "print(\"\\nMissing values after preprocessing:\")\n",
        "print(data.isnull().sum())\n",
        "\n",
        "# Encoding categorical variable 'Classification'\n",
        "le = LabelEncoder()\n",
        "data['Classification'] = le.fit_transform(data['Classification'])\n",
        "\n",
        "# Splitting the data into features (X) and target (y)\n",
        "X = data.drop('Classification', axis=1)\n",
        "y = data['Classification']\n",
        "\n",
        "# Splitting the data into training and testing sets\n",
        "X_train, X_test, y_train, y_test = train_test_split(X, y, test_size=0.2, random_state=42)\n",
        "\n",
        "# Classification algorithms\n",
        "models = {\n",
        "    \"Logistic Regression\": LogisticRegression(),\n",
        "    \"K-Nearest Neighbors\": KNeighborsClassifier(),\n",
        "    \"Support Vector Machine\": SVC(),\n",
        "    \"Decision Tree\": DecisionTreeClassifier(),\n",
        "    \"Random Forest\": RandomForestClassifier(),\n",
        "    \"Gradient Boosting\": GradientBoostingClassifier()\n",
        "}\n",
        "\n",
        "# Train and evaluate each model\n",
        "for name, model in models.items():\n",
        "    print(f\"\\nTraining {name}...\")\n",
        "    model.fit(X_train, y_train)\n",
        "    y_pred = model.predict(X_test)\n",
        "    accuracy = accuracy_score(y_test, y_pred)\n",
        "    print(f\"Accuracy of {name}: {accuracy:.2f}\")"
      ],
      "metadata": {
        "colab": {
          "base_uri": "https://localhost:8080/"
        },
        "id": "EUOpjle-4lvI",
        "outputId": "a075b9c2-0673-439d-f4da-439ca4af2f0a"
      },
      "execution_count": 11,
      "outputs": [
        {
          "output_type": "stream",
          "name": "stdout",
          "text": [
            "Missing values before preprocessing:\n",
            "SL                7\n",
            "SW                6\n",
            "PL                6\n",
            "PW                0\n",
            "Classification    0\n",
            "dtype: int64\n",
            "\n",
            "Missing values after preprocessing:\n",
            "SL                0\n",
            "SW                0\n",
            "PL                0\n",
            "PW                0\n",
            "Classification    0\n",
            "dtype: int64\n",
            "\n",
            "Training Logistic Regression...\n",
            "Accuracy of Logistic Regression: 1.00\n",
            "\n",
            "Training K-Nearest Neighbors...\n",
            "Accuracy of K-Nearest Neighbors: 0.97\n",
            "\n",
            "Training Support Vector Machine...\n",
            "Accuracy of Support Vector Machine: 1.00\n",
            "\n",
            "Training Decision Tree...\n",
            "Accuracy of Decision Tree: 1.00\n",
            "\n",
            "Training Random Forest...\n"
          ]
        },
        {
          "output_type": "stream",
          "name": "stderr",
          "text": [
            "/usr/local/lib/python3.10/dist-packages/sklearn/linear_model/_logistic.py:458: ConvergenceWarning: lbfgs failed to converge (status=1):\n",
            "STOP: TOTAL NO. of ITERATIONS REACHED LIMIT.\n",
            "\n",
            "Increase the number of iterations (max_iter) or scale the data as shown in:\n",
            "    https://scikit-learn.org/stable/modules/preprocessing.html\n",
            "Please also refer to the documentation for alternative solver options:\n",
            "    https://scikit-learn.org/stable/modules/linear_model.html#logistic-regression\n",
            "  n_iter_i = _check_optimize_result(\n"
          ]
        },
        {
          "output_type": "stream",
          "name": "stdout",
          "text": [
            "Accuracy of Random Forest: 1.00\n",
            "\n",
            "Training Gradient Boosting...\n",
            "Accuracy of Gradient Boosting: 1.00\n"
          ]
        }
      ]
    }
  ]
}